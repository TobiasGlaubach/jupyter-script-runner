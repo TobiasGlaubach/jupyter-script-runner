{
 "cells": [
  {
   "cell_type": "code",
   "execution_count": 1,
   "id": "20d753d5-d237-4b36-b605-e809e31809d7",
   "metadata": {},
   "outputs": [],
   "source": [
    "import time, requests, io"
   ]
  },
  {
   "cell_type": "markdown",
   "id": "d4fedf69-34e1-41a8-b7d4-fbfa0e47e4d7",
   "metadata": {},
   "source": [
    "# THIS IS A TEST NOTEBOOK TO PROTOTYPE THE EXECUTION CODE"
   ]
  },
  {
   "cell_type": "code",
   "execution_count": null,
   "id": "4dc5aa0c",
   "metadata": {},
   "outputs": [],
   "source": [
    "# NOTE: The string or node provided for parameters must be self contained and only consist of the following Python literal structures: \n",
    "# strings, bytes, numbers, tuples, lists, dicts, sets, booleans, and None"
   ]
  },
  {
   "cell_type": "code",
   "execution_count": 4,
   "id": "39f4c41b-9efc-4ce3-8cfe-f54c432c5368",
   "metadata": {
    "tags": [
     "parameters"
    ]
   },
   "outputs": [],
   "source": [
    "script_id = ''\n",
    "dbserver_uri = ''\n",
    "\n",
    "param1 = 5 # test paramaeter 1\n",
    "param2 = 'A' # test paramaeter 1\n",
    "param3 = ['A', 'B', 'C'] # test paramaeter 1\n",
    "dict_param = {\n",
    "    'subdict': {\n",
    "        'myval1': 1,\n",
    "        'myval2': 2,\n",
    "    },\n",
    "    'sublist': [1, 2, 3]\n",
    "}\n"
   ]
  },
  {
   "cell_type": "markdown",
   "id": "830de5b7-d907-49f1-a3fa-7bff411b774b",
   "metadata": {},
   "source": [
    "# Some Dummy Code"
   ]
  },
  {
   "cell_type": "code",
   "execution_count": null,
   "id": "bb95542d",
   "metadata": {},
   "outputs": [],
   "source": [
    "print(f'hello world from {script_id=}!')"
   ]
  },
  {
   "cell_type": "code",
   "execution_count": null,
   "id": "b4ed3745",
   "metadata": {},
   "outputs": [],
   "source": [
    "def upload_file(filename:str, byte_data:bytes, mimetype='text/plain'):\n",
    "    \"\"\"this is how to upload a file\n",
    "\n",
    "    Args:\n",
    "        filename (str): the filename e.g. mytestfile.txt\n",
    "        byte_data (bytes): the file content as bytes or string\n",
    "        mimetype (str, optional): the file mimetype. Defaults to 'text/plain'.\n",
    "\n",
    "    Returns:\n",
    "        dict: the response from \"/action/script/{script_id}/upload/files route\"\n",
    "    \"\"\"\n",
    "\n",
    "    url = f'{dbserver_uri}/action/script/{script_id}/upload/files'\n",
    "\n",
    "    if isinstance(byte_data, str):\n",
    "        byte_data = byte_data.encode()\n",
    "\n",
    "    # Send the request with bytes as a file\n",
    "    files = {'files': (filename, io.BytesIO(byte_data), mimetype)}\n",
    "\n",
    "    response = requests.post(url, files=files)\n",
    "    response.raise_for_status()\n",
    "    return response.json()\n"
   ]
  },
  {
   "cell_type": "code",
   "execution_count": null,
   "id": "f26e5202-f3c4-4bf2-8838-ffffa5320f37",
   "metadata": {},
   "outputs": [],
   "source": [
    "for i in range(param1):\n",
    "    time.sleep(1)\n",
    "    print(i)\n",
    "    print((param1, param2))"
   ]
  }
 ],
 "metadata": {
  "kernelspec": {
   "display_name": "Python 3 (ipykernel)",
   "language": "python",
   "name": "python3"
  },
  "language_info": {
   "codemirror_mode": {
    "name": "ipython",
    "version": 3
   },
   "file_extension": ".py",
   "mimetype": "text/x-python",
   "name": "python",
   "nbconvert_exporter": "python",
   "pygments_lexer": "ipython3",
   "version": "3.9.12"
  }
 },
 "nbformat": 4,
 "nbformat_minor": 5
}
