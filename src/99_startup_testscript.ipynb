{
 "cells": [
  {
   "cell_type": "code",
   "execution_count": 1,
   "id": "20d753d5-d237-4b36-b605-e809e31809d7",
   "metadata": {},
   "outputs": [],
   "source": [
    "import time"
   ]
  },
  {
   "cell_type": "markdown",
   "id": "d4fedf69-34e1-41a8-b7d4-fbfa0e47e4d7",
   "metadata": {},
   "source": [
    "# THIS IS A TEST NOTEBOOK TO PROTOTYPE THE EXECUTION CODE"
   ]
  },
  {
   "cell_type": "code",
   "execution_count": null,
   "id": "4dc5aa0c",
   "metadata": {},
   "outputs": [],
   "source": [
    "# NOTE: The string or node provided for parameters must be self contained and only consist of the following Python literal structures: \n",
    "# strings, bytes, numbers, tuples, lists, dicts, sets, booleans, and None"
   ]
  },
  {
   "cell_type": "code",
   "execution_count": 4,
   "id": "39f4c41b-9efc-4ce3-8cfe-f54c432c5368",
   "metadata": {
    "tags": [
     "parameters"
    ]
   },
   "outputs": [],
   "source": [
    "script_id = ''\n",
    "dbserver_uri = ''\n"
   ]
  },
  {
   "cell_type": "markdown",
   "id": "830de5b7-d907-49f1-a3fa-7bff411b774b",
   "metadata": {},
   "source": [
    "# Some Dummy Code"
   ]
  },
  {
   "cell_type": "code",
   "execution_count": null,
   "id": "bb95542d",
   "metadata": {},
   "outputs": [],
   "source": [
    "print(f'hello world from {script_id=}!')"
   ]
  },
  {
   "cell_type": "code",
   "execution_count": null,
   "id": "f26e5202-f3c4-4bf2-8838-ffffa5320f37",
   "metadata": {},
   "outputs": [],
   "source": [
    "import traceback\n",
    "\n",
    "\n",
    "try:\n",
    "    import JupyRunner\n",
    "    print('JupyRunner v', JupyRunner.__version__)\n",
    "\n",
    "    print('\\n\\n')\n",
    "    from JupyRunner.core.helpers import get_sys_info\n",
    "\n",
    "    print(get_sys_info())\n",
    "    \n",
    "except Exception as err:\n",
    "    traceback.format_exception(err)"
   ]
  },
  {
   "cell_type": "code",
   "execution_count": null,
   "id": "7856bfcb",
   "metadata": {},
   "outputs": [],
   "source": [
    "import os\n",
    "import pwd\n",
    "\n",
    "# Get current working directory\n",
    "cwd = os.getcwd()\n",
    "\n",
    "# Get current filename (if running as a script)\n",
    "filename = os.path.basename(__file__)\n",
    "\n",
    "# Get user ID, group ID, and username\n",
    "uid = os.getuid()\n",
    "gid = os.getgid()\n",
    "username = pwd.getpwuid(uid).pw_name\n",
    "\n",
    "# Print the information\n",
    "print(\"Current Working Directory:\", cwd)\n",
    "print(\"Current Filename:\", filename)\n",
    "print(\"User ID:\", uid)\n",
    "print(\"Group ID:\", gid)\n",
    "print(\"Username:\", username)"
   ]
  },
  {
   "cell_type": "code",
   "execution_count": null,
   "id": "fda5352c",
   "metadata": {},
   "outputs": [],
   "source": [
    "print('DONE! '*10)"
   ]
  }
 ],
 "metadata": {
  "kernelspec": {
   "display_name": "Python 3 (ipykernel)",
   "language": "python",
   "name": "python3"
  },
  "language_info": {
   "codemirror_mode": {
    "name": "ipython",
    "version": 3
   },
   "file_extension": ".py",
   "mimetype": "text/x-python",
   "name": "python",
   "nbconvert_exporter": "python",
   "pygments_lexer": "ipython3",
   "version": "3.9.12"
  }
 },
 "nbformat": 4,
 "nbformat_minor": 5
}
