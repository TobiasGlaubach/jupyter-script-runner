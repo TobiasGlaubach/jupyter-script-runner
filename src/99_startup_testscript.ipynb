{
 "cells": [
  {
   "cell_type": "code",
   "execution_count": 2,
   "id": "20d753d5-d237-4b36-b605-e809e31809d7",
   "metadata": {},
   "outputs": [],
   "source": [
    "import time\n",
    "import io\n",
    "import requests"
   ]
  },
  {
   "cell_type": "markdown",
   "id": "d4fedf69-34e1-41a8-b7d4-fbfa0e47e4d7",
   "metadata": {},
   "source": [
    "# THIS IS A TEST NOTEBOOK TO PROTOTYPE THE EXECUTION CODE"
   ]
  },
  {
   "cell_type": "code",
   "execution_count": null,
   "id": "4dc5aa0c",
   "metadata": {},
   "outputs": [],
   "source": [
    "# NOTE: The string or node provided for parameters must be self contained and only consist of the following Python literal structures: \n",
    "# strings, bytes, numbers, tuples, lists, dicts, sets, booleans, and None"
   ]
  },
  {
   "cell_type": "code",
   "execution_count": 4,
   "id": "39f4c41b-9efc-4ce3-8cfe-f54c432c5368",
   "metadata": {
    "tags": [
     "parameters"
    ]
   },
   "outputs": [],
   "source": [
    "script_id = 0\n",
    "dbserver_uri = ''\n"
   ]
  },
  {
   "cell_type": "markdown",
   "id": "830de5b7-d907-49f1-a3fa-7bff411b774b",
   "metadata": {},
   "source": [
    "# Some Dummy Code"
   ]
  },
  {
   "cell_type": "code",
   "execution_count": null,
   "id": "bb95542d",
   "metadata": {},
   "outputs": [],
   "source": [
    "print(f'hello world from {script_id=}!')"
   ]
  },
  {
   "cell_type": "code",
   "execution_count": null,
   "id": "f26e5202-f3c4-4bf2-8838-ffffa5320f37",
   "metadata": {},
   "outputs": [],
   "source": [
    "import traceback\n",
    "\n",
    "\n",
    "try:\n",
    "    import JupyRunner\n",
    "    print('JupyRunner v', JupyRunner.__version__)\n",
    "\n",
    "    print('\\n\\n')\n",
    "    from JupyRunner.core.helpers import get_sys_info\n",
    "\n",
    "    print(get_sys_info())\n",
    "    \n",
    "except Exception as err:\n",
    "    traceback.print_exception(err)"
   ]
  },
  {
   "cell_type": "code",
   "execution_count": null,
   "id": "28c8b1f8",
   "metadata": {},
   "outputs": [],
   "source": [
    "\n",
    "try:\n",
    "    import notebook\n",
    "    print(notebook.notebookapp.notebook_dir)    \n",
    "except Exception as err:\n",
    "    traceback.print_exception(err)"
   ]
  },
  {
   "cell_type": "code",
   "execution_count": null,
   "id": "a78e54fe",
   "metadata": {},
   "outputs": [],
   "source": [
    "\n",
    "try:\n",
    "    import ipykernel\n",
    "    print(ipykernel.get_connection_file())\n",
    "except Exception as err:\n",
    "    traceback.print_exception(err)"
   ]
  },
  {
   "cell_type": "code",
   "execution_count": null,
   "id": "7856bfcb",
   "metadata": {},
   "outputs": [],
   "source": [
    "import os\n",
    "\n",
    "\n",
    "# Get current working directory\n",
    "cwd = os.getcwd()\n",
    "\n",
    "try:\n",
    "    import pwd\n",
    "    uid = os.getuid()\n",
    "    gid = os.getgid()\n",
    "    username = pwd.getpwuid(uid).pw_name\n",
    "except Exception as err:\n",
    "    uid = f'ERROR: {err=}'\n",
    "    gid = f'ERROR: {err=}'\n",
    "    username = f'ERROR: {err=}'\n",
    "\n",
    "\n",
    "# Print the information\n",
    "print(\"Current Working Directory:\", cwd)\n",
    "print(\"User ID:\", uid)\n",
    "print(\"Group ID:\", gid)\n",
    "print(\"Username:\", username)"
   ]
  },
  {
   "cell_type": "markdown",
   "id": "bce877fc",
   "metadata": {},
   "source": [
    "## Upload a test file"
   ]
  },
  {
   "cell_type": "code",
   "execution_count": 70,
   "id": "e4d1c5c4",
   "metadata": {},
   "outputs": [
    {
     "data": {
      "text/plain": [
       "('{\"message\":\"Data file uploaded successfully\",\"success\":true,\"result\":[{\"script_id\":1,\"device_id\":null,\"filename\":\"1725301855169917800_testfile.txt\",\"meas_name\":\"\",\"errors\":\"\",\"mime_type\":\"\",\"locations_storage_json\":{\"nextcloud\":{\"meta\":{\"{DAV:}getlastmodified\":\"Mon, 02 Sep 2024 18:30:59 GMT\",\"{DAV:}getcontentlength\":\"67\",\"{DAV:}resourcetype\":null,\"{DAV:}getetag\":\"\\\\\"1b986abfe31a13946ae4f7c643f31e94\\\\\"\",\"{DAV:}getcontenttype\":\"text/plain\"},\"full_path\":\"\",\"link\":\"\",\"share\":[]},\"local\":{\"meta\":{\"size\":67,\"created\":\"Mon Sep  2 20:30:58 2024\",\"modified\":\"Mon Sep  2 20:30:58 2024\",\"accessed\":\"Mon Sep  2 20:30:58 2024\"},\"full_path\":\"C:/Users/tglaubach/Nextcloud/davmount/skampieng_db/jupyrun_data/no_device/20240902_1358_1_no_device_s_99_startup_testscript/data/1725301855169917800_testfile.txt\"}},\"comments\":\"\",\"last_time_changed\":\"2024-09-02T18:30:58.713887\",\"id\":7,\"tags\":[],\"status\":\"READY\",\"data_type\":\"text\",\"file_path\":\"no_device/20240902_1358_1_no_device_s_99_startup_testscript/data/1725301855169917800_testfile.txt\",\"data_json\":{},\"time_initiated\":\"2024-09-02T18:30:57.306895\"}]}',\n",
       " 200)"
      ]
     },
     "execution_count": 70,
     "metadata": {},
     "output_type": "execute_result"
    }
   ],
   "source": [
    "# import requests, time\n",
    "# dbserver_uri = 'http://localhost:8000'\n",
    "# script_id = 1\n",
    "\n",
    "url = f'{dbserver_uri}/action/script/{script_id}/upload/files'\n",
    "\n",
    "# some dummy test data\n",
    "byte_data = f\"t_now = {time.time()}\\nThis is some sample data in a byte array\".encode()\n",
    "\n",
    "# Send the request with bytes as a file\n",
    "files = {'files': (f'{time.time_ns()}_testfile.txt', io.BytesIO(byte_data), 'text/plain')}\n",
    "\n",
    "response = requests.post(url, files=files)\n",
    "\n",
    "response.text, response.status_code"
   ]
  },
  {
   "cell_type": "code",
   "execution_count": null,
   "id": "d8f92105",
   "metadata": {},
   "outputs": [],
   "source": [
    "files = {'file': open('imagem1.jpg','rb')}\n",
    "headers = {'Content-Type': 'multipart/form-data'}\n",
    "\n",
    "r = requests.post(url, headers = headers, files=files)\n",
    "\n",
    "print(r.status_code)\n",
    "print(r.text)"
   ]
  },
  {
   "cell_type": "code",
   "execution_count": null,
   "id": "fda5352c",
   "metadata": {},
   "outputs": [],
   "source": [
    "print('DONE! '*10)"
   ]
  }
 ],
 "metadata": {
  "kernelspec": {
   "display_name": "Python 3 (ipykernel)",
   "language": "python",
   "name": "python3"
  },
  "language_info": {
   "codemirror_mode": {
    "name": "ipython",
    "version": 3
   },
   "file_extension": ".py",
   "mimetype": "text/x-python",
   "name": "python",
   "nbconvert_exporter": "python",
   "pygments_lexer": "ipython3",
   "version": "3.11.9"
  }
 },
 "nbformat": 4,
 "nbformat_minor": 5
}
