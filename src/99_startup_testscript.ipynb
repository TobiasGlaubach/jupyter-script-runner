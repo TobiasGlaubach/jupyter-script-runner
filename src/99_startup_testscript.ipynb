{
 "cells": [
  {
   "cell_type": "code",
   "execution_count": null,
   "id": "20d753d5-d237-4b36-b605-e809e31809d7",
   "metadata": {},
   "outputs": [],
   "source": [
    "import time\n",
    "import io\n",
    "import requests\n",
    "import datetime\n",
    "\n",
    "import pydocmaker as pyd"
   ]
  },
  {
   "cell_type": "markdown",
   "id": "d4fedf69-34e1-41a8-b7d4-fbfa0e47e4d7",
   "metadata": {},
   "source": [
    "# THIS IS A TEST NOTEBOOK TO PROTOTYPE THE EXECUTION CODE"
   ]
  },
  {
   "cell_type": "code",
   "execution_count": null,
   "id": "4dc5aa0c",
   "metadata": {},
   "outputs": [],
   "source": [
    "# NOTE: The string or node provided for parameters must be self contained and only consist of the following Python literal structures: \n",
    "# strings, bytes, numbers, tuples, lists, dicts, sets, booleans, and None"
   ]
  },
  {
   "cell_type": "code",
   "execution_count": null,
   "id": "39f4c41b-9efc-4ce3-8cfe-f54c432c5368",
   "metadata": {
    "tags": [
     "parameters"
    ]
   },
   "outputs": [],
   "source": [
    "script_id = 0\n",
    "dbserver_uri = ''\n",
    "device_id = ''\n"
   ]
  },
  {
   "cell_type": "code",
   "execution_count": null,
   "id": "f105fcc1",
   "metadata": {},
   "outputs": [],
   "source": []
  },
  {
   "cell_type": "markdown",
   "id": "830de5b7-d907-49f1-a3fa-7bff411b774b",
   "metadata": {},
   "source": [
    "# Some Dummy Code"
   ]
  },
  {
   "cell_type": "code",
   "execution_count": null,
   "id": "bb95542d",
   "metadata": {},
   "outputs": [],
   "source": [
    "print(f'hello world from {script_id=}!')"
   ]
  },
  {
   "cell_type": "code",
   "execution_count": null,
   "id": "f26e5202-f3c4-4bf2-8838-ffffa5320f37",
   "metadata": {},
   "outputs": [],
   "source": [
    "import traceback\n",
    "\n",
    "\n",
    "try:\n",
    "    import JupyRunner\n",
    "    print('JupyRunner v', JupyRunner.__version__)\n",
    "\n",
    "    print('\\n\\n')\n",
    "    from JupyRunner.core.helpers import get_sys_info\n",
    "\n",
    "    print(get_sys_info())\n",
    "    \n",
    "except Exception as err:\n",
    "    traceback.print_exception(err)"
   ]
  },
  {
   "cell_type": "code",
   "execution_count": null,
   "id": "28c8b1f8",
   "metadata": {},
   "outputs": [],
   "source": [
    "\n",
    "try:\n",
    "    import notebook\n",
    "    print(notebook.notebookapp.notebook_dir)    \n",
    "except Exception as err:\n",
    "    traceback.print_exception(err)"
   ]
  },
  {
   "cell_type": "code",
   "execution_count": null,
   "id": "a78e54fe",
   "metadata": {},
   "outputs": [],
   "source": [
    "\n",
    "try:\n",
    "    import ipykernel\n",
    "    print(ipykernel.get_connection_file())\n",
    "except Exception as err:\n",
    "    traceback.print_exception(err)"
   ]
  },
  {
   "cell_type": "code",
   "execution_count": null,
   "id": "7856bfcb",
   "metadata": {},
   "outputs": [],
   "source": [
    "import os\n",
    "\n",
    "\n",
    "# Get current working directory\n",
    "cwd = os.getcwd()\n",
    "\n",
    "try:\n",
    "    import pwd\n",
    "    uid = os.getuid()\n",
    "    gid = os.getgid()\n",
    "    username = pwd.getpwuid(uid).pw_name\n",
    "except Exception as err:\n",
    "    uid = f'ERROR: {err=}'\n",
    "    gid = f'ERROR: {err=}'\n",
    "    username = f'ERROR: {err=}'\n",
    "\n",
    "\n",
    "# Print the information\n",
    "print(\"Current Working Directory:\", cwd)\n",
    "print(\"User ID:\", uid)\n",
    "print(\"Group ID:\", gid)\n",
    "print(\"Username:\", username)"
   ]
  },
  {
   "cell_type": "markdown",
   "id": "bce877fc",
   "metadata": {},
   "source": [
    "## Upload a test file"
   ]
  },
  {
   "cell_type": "code",
   "execution_count": null,
   "id": "e4d1c5c4",
   "metadata": {},
   "outputs": [],
   "source": [
    "# import requests, time\n",
    "# dbserver_uri = 'http://localhost:8000'\n",
    "# script_id = 1\n",
    "\n",
    "url = f'{dbserver_uri}/action/script/{script_id}/upload/files'\n",
    "\n",
    "# some dummy test data\n",
    "byte_data = f\"t_now = {time.time()}\\nThis is some sample data in a byte array\".encode()\n",
    "\n",
    "# Send the request with bytes as a file\n",
    "files = {'files': (f'{time.time_ns()}_testfile.txt', io.BytesIO(byte_data), 'text/plain')}\n",
    "\n",
    "response = requests.post(url, files=files)\n",
    "\n",
    "response.text, response.status_code"
   ]
  },
  {
   "cell_type": "code",
   "execution_count": null,
   "id": "b631f354",
   "metadata": {},
   "outputs": [],
   "source": [
    "url = f'{dbserver_uri}/doc/example'\n",
    "\n",
    "r = requests.get(url)\n",
    "r.raise_for_status()\n",
    "\n",
    "doc = pyd.DocBuilder(r.json())\n",
    "doc.show()\n"
   ]
  },
  {
   "cell_type": "code",
   "execution_count": null,
   "id": "60b5269f",
   "metadata": {},
   "outputs": [],
   "source": [
    "# url = f'{dbserver_uri}/doc/upload'\n",
    "url = f'{dbserver_uri}/action/script/{script_id}/upload/doc'\n",
    "time = datetime.datetime.utcnow().strftime('%Y%m%d_%H%M%S')\n",
    "did = device_id if device_id else 'no_device'\n",
    "res = doc.upload(url, f'{time}_{script_id}_{did}_d_testdoc_rollout')\n",
    "res"
   ]
  },
  {
   "cell_type": "code",
   "execution_count": null,
   "id": "2733bb05",
   "metadata": {},
   "outputs": [],
   "source": [
    "print(res.get('dir_rep'))\n",
    "os.listdir(res.get('dir_rep'))\n"
   ]
  },
  {
   "cell_type": "code",
   "execution_count": null,
   "id": "fda5352c",
   "metadata": {},
   "outputs": [],
   "source": [
    "print('DONE! '*10)"
   ]
  }
 ],
 "metadata": {
  "kernelspec": {
   "display_name": "Python 3 (ipykernel)",
   "language": "python",
   "name": "python3"
  },
  "language_info": {
   "codemirror_mode": {
    "name": "ipython",
    "version": 3
   },
   "file_extension": ".py",
   "mimetype": "text/x-python",
   "name": "python",
   "nbconvert_exporter": "python",
   "pygments_lexer": "ipython3",
   "version": "3.11.9"
  }
 },
 "nbformat": 4,
 "nbformat_minor": 5
}
